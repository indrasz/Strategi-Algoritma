{
  "cells": [
    {
      "cell_type": "markdown",
      "metadata": {
        "id": "view-in-github",
        "colab_type": "text"
      },
      "source": [
        "<a href=\"https://colab.research.google.com/github/indrasz/Strategi-Algoritma/blob/main/genom.ipynb\" target=\"_parent\"><img src=\"https://colab.research.google.com/assets/colab-badge.svg\" alt=\"Open In Colab\"/></a>"
      ]
    },
    {
      "cell_type": "code",
      "execution_count": 3,
      "metadata": {
        "id": "ukHqtlEVP-xe",
        "colab": {
          "base_uri": "https://localhost:8080/",
          "height": 34
        },
        "outputId": "3f2e8a0c-3006-4a56-b6c6-8d94c0c50bd4"
      },
      "outputs": [
        {
          "output_type": "stream",
          "name": "stdout",
          "text": [
            "File CSV telah dibuat: genome_sequences.csv\n"
          ]
        },
        {
          "output_type": "display_data",
          "data": {
            "text/plain": [
              "<IPython.core.display.Javascript object>"
            ],
            "application/javascript": [
              "\n",
              "    async function download(id, filename, size) {\n",
              "      if (!google.colab.kernel.accessAllowed) {\n",
              "        return;\n",
              "      }\n",
              "      const div = document.createElement('div');\n",
              "      const label = document.createElement('label');\n",
              "      label.textContent = `Downloading \"${filename}\": `;\n",
              "      div.appendChild(label);\n",
              "      const progress = document.createElement('progress');\n",
              "      progress.max = size;\n",
              "      div.appendChild(progress);\n",
              "      document.body.appendChild(div);\n",
              "\n",
              "      const buffers = [];\n",
              "      let downloaded = 0;\n",
              "\n",
              "      const channel = await google.colab.kernel.comms.open(id);\n",
              "      // Send a message to notify the kernel that we're ready.\n",
              "      channel.send({})\n",
              "\n",
              "      for await (const message of channel.messages) {\n",
              "        // Send a message to notify the kernel that we're ready.\n",
              "        channel.send({})\n",
              "        if (message.buffers) {\n",
              "          for (const buffer of message.buffers) {\n",
              "            buffers.push(buffer);\n",
              "            downloaded += buffer.byteLength;\n",
              "            progress.value = downloaded;\n",
              "          }\n",
              "        }\n",
              "      }\n",
              "      const blob = new Blob(buffers, {type: 'application/binary'});\n",
              "      const a = document.createElement('a');\n",
              "      a.href = window.URL.createObjectURL(blob);\n",
              "      a.download = filename;\n",
              "      div.appendChild(a);\n",
              "      a.click();\n",
              "      div.remove();\n",
              "    }\n",
              "  "
            ]
          },
          "metadata": {}
        },
        {
          "output_type": "display_data",
          "data": {
            "text/plain": [
              "<IPython.core.display.Javascript object>"
            ],
            "application/javascript": [
              "download(\"download_053d4551-e8c4-4dd1-a14a-32b8bb21e1b6\", \"genome_sequences.csv\", 57852581)"
            ]
          },
          "metadata": {}
        }
      ],
      "source": [
        "import requests\n",
        "import gzip\n",
        "import csv\n",
        "from google.colab import files\n",
        "\n",
        "def divide_and_conquer_genome_mapping(sequence, start, end):\n",
        "    \"\"\"\n",
        "    Melakukan pemetaan genom dengan metode divide & conquer.\n",
        "    \"\"\"\n",
        "    if start == end:\n",
        "        return sequence[start]\n",
        "    if start > end:\n",
        "        return \"\"\n",
        "\n",
        "    # Menentukan titik tengah untuk pembagian\n",
        "    mid = (start + end) // 2\n",
        "\n",
        "    # Pemetaan rekursif pada kedua bagian\n",
        "    left_mapping = divide_and_conquer_genome_mapping(sequence, start, mid)\n",
        "    right_mapping = divide_and_conquer_genome_mapping(sequence, mid + 1, end)\n",
        "\n",
        "    # Menggabungkan hasil pemetaan dari kedua bagian\n",
        "    return merge_mappings(left_mapping, right_mapping)\n",
        "\n",
        "def merge_mappings(left, right):\n",
        "    \"\"\"\n",
        "    Menggabungkan hasil pemetaan dua sub-sekuens.\n",
        "    \"\"\"\n",
        "    # Contoh penggabungan: cukup menggabungkan dua string\n",
        "    return left + right\n",
        "\n",
        "def download_genome_sequence(url):\n",
        "    \"\"\"\n",
        "    Mengunduh data sekuens genomik dari URL dan mengembalikannya sebagai string.\n",
        "    \"\"\"\n",
        "    response = requests.get(url, stream=True)\n",
        "    response.raise_for_status()\n",
        "    with gzip.open(response.raw, 'rt') as f:\n",
        "        genome_sequence = f.read()\n",
        "    return genome_sequence\n",
        "\n",
        "def fasta_to_csv(fasta_data, csv_file_path):\n",
        "    \"\"\"\n",
        "    Mengonversi data FASTA ke format CSV.\n",
        "    \"\"\"\n",
        "    with open(csv_file_path, 'w', newline='') as csvfile:\n",
        "        csvwriter = csv.writer(csvfile)\n",
        "        csvwriter.writerow(['Header', 'Sequence'])  # Menulis header CSV\n",
        "\n",
        "        lines = fasta_data.split('\\n')\n",
        "        header = ''\n",
        "        sequence = ''\n",
        "\n",
        "        for line in lines:\n",
        "            if line.startswith('>'):\n",
        "                if header and sequence:  # Simpan header dan sequence sebelumnya\n",
        "                    csvwriter.writerow([header, sequence])\n",
        "                header = line[1:]  # Buang karakter '>' dari header\n",
        "                sequence = ''\n",
        "            else:\n",
        "                sequence += line.strip()\n",
        "\n",
        "        # Menyimpan data terakhir setelah loop selesai\n",
        "        if header and sequence:\n",
        "            csvwriter.writerow([header, sequence])\n",
        "\n",
        "# Contoh URL dari NCBI atau Human Genome Project\n",
        "genome_url = \"https://ftp.ebi.ac.uk/pub/databases/gencode/Gencode_human/release_46/gencode.v46.pc_translations.fa.gz\"\n",
        "\n",
        "csv_file_path = 'genome_sequences.csv'\n",
        "\n",
        "try:\n",
        "    # Mengunduh data sekuens genomik\n",
        "    genome_sequence = download_genome_sequence(genome_url)\n",
        "\n",
        "    # Menyimpan data FASTA ke file CSV\n",
        "    fasta_to_csv(genome_sequence, csv_file_path)\n",
        "\n",
        "    print(f\"File CSV telah dibuat: {csv_file_path}\")\n",
        "\n",
        "    # Mengunduh file CSV ke perangkat pengguna\n",
        "    files.download(csv_file_path)\n",
        "except Exception as e:\n",
        "    print(f\"Error: {e}\")"
      ]
    },
    {
      "cell_type": "code",
      "source": [
        "import requests\n",
        "import time\n",
        "import matplotlib.pyplot as plt\n",
        "\n",
        "# Function to get Ensembl information\n",
        "def get_ensembl_info(ensembl_id, ensembl_type):\n",
        "    base_url = \"https://rest.ensembl.org\"\n",
        "    endpoints = {\n",
        "        \"gene\": f\"{base_url}/lookup/id/{ensembl_id}?content-type=application/json\",\n",
        "        \"transcript\": f\"{base_url}/lookup/id/{ensembl_id}?content-type=application/json\",\n",
        "        \"protein\": f\"{base_url}/lookup/id/{ensembl_id}?content-type=application/json\"\n",
        "    }\n",
        "\n",
        "    url = endpoints.get(ensembl_type)\n",
        "    if url is None:\n",
        "        return None\n",
        "\n",
        "    response = requests.get(url)\n",
        "    if response.status_code == 200:\n",
        "        return response.json()\n",
        "    else:\n",
        "        return None\n",
        "\n",
        "# Divide and conquer approach\n",
        "def divide_and_conquer(ensembl_ids):\n",
        "    results = {}\n",
        "    for ensembl_type, ensembl_id in ensembl_ids.items():\n",
        "        info = get_ensembl_info(ensembl_id, ensembl_type)\n",
        "        if info:\n",
        "            results[ensembl_type] = info\n",
        "        else:\n",
        "            results[ensembl_type] = f\"No data found for ID: {ensembl_id}\"\n",
        "    return results\n",
        "\n",
        "# Dynamic programming approach\n",
        "def dynamic_programming(ensembl_ids):\n",
        "    results = {}\n",
        "    cache = {}\n",
        "    for ensembl_type, ensembl_id in ensembl_ids.items():\n",
        "        if ensembl_id in cache:\n",
        "            results[ensembl_type] = cache[ensembl_id]\n",
        "        else:\n",
        "            info = get_ensembl_info(ensembl_id, ensembl_type)\n",
        "            if info:\n",
        "                cache[ensembl_id] = info\n",
        "                results[ensembl_type] = info\n",
        "            else:\n",
        "                results[ensembl_type] = f\"No data found for ID: {ensembl_id}\"\n",
        "    return results\n",
        "\n",
        "# Ensembl IDs provided\n",
        "ensembl_ids = {\n",
        "    \"gene\": \"ENSG00000186092\",\n",
        "    \"transcript\": \"ENST00000641515\",\n",
        "    \"protein\": \"ENSP00000493376\"\n",
        "}\n",
        "\n",
        "# Benchmarking and comparison\n",
        "divide_times = []\n",
        "dynamic_times = []\n",
        "sizes = [1, 10, 50, 100, 500]  # Different input sizes\n",
        "\n",
        "for size in sizes:\n",
        "    test_ids = {k: ensembl_ids[k] for k in list(ensembl_ids.keys()) * size}\n",
        "\n",
        "    # Time divide and conquer\n",
        "    start_time = time.time()\n",
        "    divide_and_conquer(test_ids)\n",
        "    end_time = time.time()\n",
        "    divide_times.append(end_time - start_time)\n",
        "\n",
        "    # Time dynamic programming\n",
        "    start_time = time.time()\n",
        "    dynamic_programming(test_ids)\n",
        "    end_time = time.time()\n",
        "    dynamic_times.append(end_time - start_time)\n",
        "\n",
        "# Plotting the results\n",
        "plt.plot(sizes, divide_times, label='Divide and Conquer', marker='o')\n",
        "plt.plot(sizes, dynamic_times, label='Dynamic Programming', marker='o')\n",
        "plt.xlabel('Number of Ensembl IDs')\n",
        "plt.ylabel('Running Time (seconds)')\n",
        "plt.title('Running Time Comparison')\n",
        "plt.legend()\n",
        "plt.grid(True)\n",
        "plt.show()"
      ],
      "metadata": {
        "colab": {
          "base_uri": "https://localhost:8080/",
          "height": 472
        },
        "id": "ijYoCm4nlyvn",
        "outputId": "bbadf378-9a86-4f6e-9866-c5133ddaec7b"
      },
      "execution_count": 8,
      "outputs": [
        {
          "output_type": "display_data",
          "data": {
            "text/plain": [
              "<Figure size 640x480 with 1 Axes>"
            ],
            "image/png": "[encoded data removed]"
          },
          "metadata": {}
        }
      ]
    }
  ],
  "metadata": {
    "colab": {
      "provenance": [],
      "include_colab_link": true
    },
    "kernelspec": {
      "display_name": "Python 3",
      "name": "python3"
    },
    "language_info": {
      "name": "python"
    }
  },
  "nbformat": 4,
  "nbformat_minor": 0
}